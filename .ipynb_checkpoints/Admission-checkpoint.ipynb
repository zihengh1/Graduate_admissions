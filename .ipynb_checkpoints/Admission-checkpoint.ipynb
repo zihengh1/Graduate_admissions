{
 "cells": [
  {
   "cell_type": "code",
   "execution_count": 1,
   "metadata": {},
   "outputs": [],
   "source": [
    "import pandas as pd\n",
    "import numpy as np\n",
    "import matplotlib.pyplot as plt\n",
    "import seaborn as sns\n",
    "\n",
    "## data preprocessing\n",
    "from sklearn.model_selection import train_test_split\n",
    "from sklearn.preprocessing import MinMaxScaler\n",
    "\n",
    "## regression model\n",
    "from sklearn.linear_model import LinearRegression\n",
    "from sklearn.ensemble import RandomForestRegressor\n",
    "from sklearn.tree import DecisionTreeRegressor\n",
    "from sklearn.linear_model import LogisticRegression\n",
    "\n",
    "## classification model\n",
    "from sklearn.naive_bayes import GaussianNB\n",
    "from sklearn.tree import DecisionTreeClassifier\n",
    "from sklearn.ensemble import RandomForestClassifier\n",
    "from sklearn.svm import SVC\n",
    "\n",
    "## evaluation\n",
    "from sklearn.metrics import r2_score\n",
    "from sklearn.metrics import confusion_matrix\n",
    "from sklearn.metrics import precision_score \n",
    "from sklearn.metrics import recall_score\n",
    "from sklearn.metrics import f1_score"
   ]
  },
  {
   "cell_type": "markdown",
   "metadata": {},
   "source": [
    "## Random Forest Classification¶"
   ]
  },
  {
   "cell_type": "code",
   "execution_count": 2,
   "metadata": {},
   "outputs": [],
   "source": [
    "def random_forest_classification(train_X, train_y, test_X, test_y):\n",
    "    model = RandomForestClassifier(n_estimators = 100,random_state = 1)\n",
    "    model.fit(train_X, train_y)\n",
    "    predict = model.predict(test_X)\n",
    "    \n",
    "    print(\"score: \", model.score(train_X, train_y))\n",
    "    print(\"precision_score: \", precision_score(test_y, predict))\n",
    "    print(\"recall_score: \", recall_score(test_y, predict))\n",
    "    print(\"f1_score: \",f1_score(test_y, predict))"
   ]
  },
  {
   "cell_type": "markdown",
   "metadata": {},
   "source": [
    "## Decision Tree Classification"
   ]
  },
  {
   "cell_type": "code",
   "execution_count": 3,
   "metadata": {},
   "outputs": [],
   "source": [
    "def decision_tree_classification(train_X, train_y, test_X, test_y):\n",
    "    model = DecisionTreeClassifier()\n",
    "    model.fit(train_X, train_y)\n",
    "    predict = model.predict(test_X)\n",
    "    \n",
    "    print(\"score: \", model.score(train_X, train_y))\n",
    "    print(\"precision_score: \", precision_score(test_y, predict))\n",
    "    print(\"recall_score: \", recall_score(test_y, predict))\n",
    "    print(\"f1_score: \",f1_score(test_y, predict))"
   ]
  },
  {
   "cell_type": "markdown",
   "metadata": {},
   "source": [
    "## Gaussian Naive Bayes¶"
   ]
  },
  {
   "cell_type": "code",
   "execution_count": 4,
   "metadata": {},
   "outputs": [],
   "source": [
    "def gaussian_naive_bayes(train_X, train_y, test_X, test_y):\n",
    "    model = GaussianNB()\n",
    "    model.fit(train_X, train_y)\n",
    "    predict = model.predict(test_X)\n",
    "    \n",
    "    print(\"score: \", model.score(train_X, train_y))\n",
    "    print(\"precision_score: \", precision_score(test_y, predict))\n",
    "    print(\"recall_score: \", recall_score(test_y, predict))\n",
    "    print(\"f1_score: \",f1_score(test_y, predict))"
   ]
  },
  {
   "cell_type": "markdown",
   "metadata": {},
   "source": [
    "## Support Vector Machine"
   ]
  },
  {
   "cell_type": "code",
   "execution_count": 5,
   "metadata": {},
   "outputs": [],
   "source": [
    "def support_vector_machine(train_X, train_y, test_X, test_y):\n",
    "    model = SVC(random_state = 1)\n",
    "    model.fit(train_X, train_y)\n",
    "    predict = model.predict(test_X)\n",
    "    \n",
    "    print(\"score: \", model.score(train_X, train_y))\n",
    "    print(\"precision_score: \", precision_score(test_y, predict))\n",
    "    print(\"recall_score: \", recall_score(test_y, predict))\n",
    "    print(\"f1_score: \",f1_score(test_y, predict))"
   ]
  },
  {
   "cell_type": "markdown",
   "metadata": {},
   "source": [
    "## Logistic regression"
   ]
  },
  {
   "cell_type": "code",
   "execution_count": 6,
   "metadata": {},
   "outputs": [],
   "source": [
    "def logistic_regression(train_X, train_y, test_X, test_y):\n",
    "    model = LogisticRegression()\n",
    "    model.fit(train_X, train_y)\n",
    "    predict = model.predict(test_X)\n",
    "    \n",
    "    print(\"score: \", model.score(train_X, train_y))\n",
    "    print(\"precision_score: \", precision_score(test_y, predict))\n",
    "    print(\"recall_score: \", recall_score(test_y, predict))\n",
    "    print(\"f1_score: \",f1_score(test_y, predict))"
   ]
  },
  {
   "cell_type": "markdown",
   "metadata": {},
   "source": [
    "## Linear Regression"
   ]
  },
  {
   "cell_type": "code",
   "execution_count": 7,
   "metadata": {},
   "outputs": [],
   "source": [
    "def linear_regression(train_X, train_y, test_X, test_y):\n",
    "    model = LinearRegression()\n",
    "    model.fit(train_X, train_y)\n",
    "    predict = model.predict(test_X)\n",
    "    train_predict = model.predict(train_X)\n",
    "    \n",
    "    print(\"r_square score: \", r2_score(test_y, predict))\n",
    "    print(\"r_square score (train dataset): \", r2_score(train_y, train_predict))"
   ]
  },
  {
   "cell_type": "markdown",
   "metadata": {},
   "source": [
    "## Random Forest"
   ]
  },
  {
   "cell_type": "code",
   "execution_count": 8,
   "metadata": {},
   "outputs": [],
   "source": [
    "def random_forest(train_X, train_y, test_X, test_y):\n",
    "    model = RandomForestRegressor(n_estimators = 100, random_state = 42)\n",
    "    model.fit(train_X, train_y)\n",
    "    predict = model.predict(test_X)\n",
    "    train_predict = model.predict(train_X)\n",
    "\n",
    "    print(\"r_square score: \", r2_score(test_y, predict))\n",
    "    print(\"r_square score (train dataset): \", r2_score(train_y, train_predict))"
   ]
  },
  {
   "cell_type": "markdown",
   "metadata": {},
   "source": [
    "## Decision Tree"
   ]
  },
  {
   "cell_type": "code",
   "execution_count": 9,
   "metadata": {},
   "outputs": [],
   "source": [
    "def decision_tree(train_X, train_y, test_X, test_y):\n",
    "    model = DecisionTreeRegressor(random_state = 42)\n",
    "    model.fit(train_X, train_y)\n",
    "    predict = model.predict(test_X)\n",
    "    train_predict = model.predict(train_X)\n",
    "\n",
    "    print(\"r_square score: \", r2_score(test_y, predict))\n",
    "    print(\"r_square score (train dataset): \", r2_score(train_y, train_predict))"
   ]
  },
  {
   "cell_type": "markdown",
   "metadata": {},
   "source": [
    "## Reading Data"
   ]
  },
  {
   "cell_type": "code",
   "execution_count": 10,
   "metadata": {},
   "outputs": [],
   "source": [
    "raw_data = pd.read_csv(\"./Admission_Predict_Ver1.1.csv\")"
   ]
  },
  {
   "cell_type": "code",
   "execution_count": 11,
   "metadata": {},
   "outputs": [
    {
     "data": {
      "text/html": [
       "<div>\n",
       "<style scoped>\n",
       "    .dataframe tbody tr th:only-of-type {\n",
       "        vertical-align: middle;\n",
       "    }\n",
       "\n",
       "    .dataframe tbody tr th {\n",
       "        vertical-align: top;\n",
       "    }\n",
       "\n",
       "    .dataframe thead th {\n",
       "        text-align: right;\n",
       "    }\n",
       "</style>\n",
       "<table border=\"1\" class=\"dataframe\">\n",
       "  <thead>\n",
       "    <tr style=\"text-align: right;\">\n",
       "      <th></th>\n",
       "      <th>Serial No.</th>\n",
       "      <th>GRE Score</th>\n",
       "      <th>TOEFL Score</th>\n",
       "      <th>University Rating</th>\n",
       "      <th>SOP</th>\n",
       "      <th>LOR</th>\n",
       "      <th>CGPA</th>\n",
       "      <th>Research</th>\n",
       "      <th>Chance of Admit</th>\n",
       "    </tr>\n",
       "  </thead>\n",
       "  <tbody>\n",
       "    <tr>\n",
       "      <th>0</th>\n",
       "      <td>1</td>\n",
       "      <td>337</td>\n",
       "      <td>118</td>\n",
       "      <td>4</td>\n",
       "      <td>4.5</td>\n",
       "      <td>4.5</td>\n",
       "      <td>9.65</td>\n",
       "      <td>1</td>\n",
       "      <td>0.92</td>\n",
       "    </tr>\n",
       "    <tr>\n",
       "      <th>1</th>\n",
       "      <td>2</td>\n",
       "      <td>324</td>\n",
       "      <td>107</td>\n",
       "      <td>4</td>\n",
       "      <td>4.0</td>\n",
       "      <td>4.5</td>\n",
       "      <td>8.87</td>\n",
       "      <td>1</td>\n",
       "      <td>0.76</td>\n",
       "    </tr>\n",
       "    <tr>\n",
       "      <th>2</th>\n",
       "      <td>3</td>\n",
       "      <td>316</td>\n",
       "      <td>104</td>\n",
       "      <td>3</td>\n",
       "      <td>3.0</td>\n",
       "      <td>3.5</td>\n",
       "      <td>8.00</td>\n",
       "      <td>1</td>\n",
       "      <td>0.72</td>\n",
       "    </tr>\n",
       "    <tr>\n",
       "      <th>3</th>\n",
       "      <td>4</td>\n",
       "      <td>322</td>\n",
       "      <td>110</td>\n",
       "      <td>3</td>\n",
       "      <td>3.5</td>\n",
       "      <td>2.5</td>\n",
       "      <td>8.67</td>\n",
       "      <td>1</td>\n",
       "      <td>0.80</td>\n",
       "    </tr>\n",
       "    <tr>\n",
       "      <th>4</th>\n",
       "      <td>5</td>\n",
       "      <td>314</td>\n",
       "      <td>103</td>\n",
       "      <td>2</td>\n",
       "      <td>2.0</td>\n",
       "      <td>3.0</td>\n",
       "      <td>8.21</td>\n",
       "      <td>0</td>\n",
       "      <td>0.65</td>\n",
       "    </tr>\n",
       "  </tbody>\n",
       "</table>\n",
       "</div>"
      ],
      "text/plain": [
       "   Serial No.  GRE Score  TOEFL Score  University Rating  SOP  LOR   CGPA  \\\n",
       "0           1        337          118                  4  4.5   4.5  9.65   \n",
       "1           2        324          107                  4  4.0   4.5  8.87   \n",
       "2           3        316          104                  3  3.0   3.5  8.00   \n",
       "3           4        322          110                  3  3.5   2.5  8.67   \n",
       "4           5        314          103                  2  2.0   3.0  8.21   \n",
       "\n",
       "   Research  Chance of Admit   \n",
       "0         1              0.92  \n",
       "1         1              0.76  \n",
       "2         1              0.72  \n",
       "3         1              0.80  \n",
       "4         0              0.65  "
      ]
     },
     "execution_count": 11,
     "metadata": {},
     "output_type": "execute_result"
    }
   ],
   "source": [
    "raw_data.head()"
   ]
  },
  {
   "cell_type": "markdown",
   "metadata": {},
   "source": [
    "## Rename Column"
   ]
  },
  {
   "cell_type": "code",
   "execution_count": 12,
   "metadata": {},
   "outputs": [],
   "source": [
    "raw_data.set_index('Serial No.', inplace=True)\n",
    "raw_data.index.name = \"No\""
   ]
  },
  {
   "cell_type": "code",
   "execution_count": 13,
   "metadata": {},
   "outputs": [
    {
     "data": {
      "text/html": [
       "<div>\n",
       "<style scoped>\n",
       "    .dataframe tbody tr th:only-of-type {\n",
       "        vertical-align: middle;\n",
       "    }\n",
       "\n",
       "    .dataframe tbody tr th {\n",
       "        vertical-align: top;\n",
       "    }\n",
       "\n",
       "    .dataframe thead th {\n",
       "        text-align: right;\n",
       "    }\n",
       "</style>\n",
       "<table border=\"1\" class=\"dataframe\">\n",
       "  <thead>\n",
       "    <tr style=\"text-align: right;\">\n",
       "      <th></th>\n",
       "      <th>GRE</th>\n",
       "      <th>TOEFL</th>\n",
       "      <th>Rating</th>\n",
       "      <th>SOP</th>\n",
       "      <th>LOR</th>\n",
       "      <th>CGPA</th>\n",
       "      <th>Research</th>\n",
       "      <th>Chance</th>\n",
       "    </tr>\n",
       "    <tr>\n",
       "      <th>No</th>\n",
       "      <th></th>\n",
       "      <th></th>\n",
       "      <th></th>\n",
       "      <th></th>\n",
       "      <th></th>\n",
       "      <th></th>\n",
       "      <th></th>\n",
       "      <th></th>\n",
       "    </tr>\n",
       "  </thead>\n",
       "  <tbody>\n",
       "    <tr>\n",
       "      <th>1</th>\n",
       "      <td>337</td>\n",
       "      <td>118</td>\n",
       "      <td>4</td>\n",
       "      <td>4.5</td>\n",
       "      <td>4.5</td>\n",
       "      <td>9.65</td>\n",
       "      <td>1</td>\n",
       "      <td>0.92</td>\n",
       "    </tr>\n",
       "    <tr>\n",
       "      <th>2</th>\n",
       "      <td>324</td>\n",
       "      <td>107</td>\n",
       "      <td>4</td>\n",
       "      <td>4.0</td>\n",
       "      <td>4.5</td>\n",
       "      <td>8.87</td>\n",
       "      <td>1</td>\n",
       "      <td>0.76</td>\n",
       "    </tr>\n",
       "    <tr>\n",
       "      <th>3</th>\n",
       "      <td>316</td>\n",
       "      <td>104</td>\n",
       "      <td>3</td>\n",
       "      <td>3.0</td>\n",
       "      <td>3.5</td>\n",
       "      <td>8.00</td>\n",
       "      <td>1</td>\n",
       "      <td>0.72</td>\n",
       "    </tr>\n",
       "    <tr>\n",
       "      <th>4</th>\n",
       "      <td>322</td>\n",
       "      <td>110</td>\n",
       "      <td>3</td>\n",
       "      <td>3.5</td>\n",
       "      <td>2.5</td>\n",
       "      <td>8.67</td>\n",
       "      <td>1</td>\n",
       "      <td>0.80</td>\n",
       "    </tr>\n",
       "    <tr>\n",
       "      <th>5</th>\n",
       "      <td>314</td>\n",
       "      <td>103</td>\n",
       "      <td>2</td>\n",
       "      <td>2.0</td>\n",
       "      <td>3.0</td>\n",
       "      <td>8.21</td>\n",
       "      <td>0</td>\n",
       "      <td>0.65</td>\n",
       "    </tr>\n",
       "  </tbody>\n",
       "</table>\n",
       "</div>"
      ],
      "text/plain": [
       "    GRE  TOEFL  Rating  SOP  LOR   CGPA  Research  Chance\n",
       "No                                                       \n",
       "1   337    118       4  4.5   4.5  9.65         1    0.92\n",
       "2   324    107       4  4.0   4.5  8.87         1    0.76\n",
       "3   316    104       3  3.0   3.5  8.00         1    0.72\n",
       "4   322    110       3  3.5   2.5  8.67         1    0.80\n",
       "5   314    103       2  2.0   3.0  8.21         0    0.65"
      ]
     },
     "execution_count": 13,
     "metadata": {},
     "output_type": "execute_result"
    }
   ],
   "source": [
    "raw_data = raw_data.rename(columns = {'Chance of Admit ': 'Chance', \\\n",
    "                                      'GRE Score': 'GRE', \\\n",
    "                                      'TOEFL Score': 'TOEFL', \\\n",
    "                                      'University Rating': 'Rating', \\\n",
    "                                     })\n",
    "raw_data.head()"
   ]
  },
  {
   "cell_type": "markdown",
   "metadata": {},
   "source": [
    "## Correlation Plot"
   ]
  },
  {
   "cell_type": "code",
   "execution_count": 14,
   "metadata": {},
   "outputs": [
    {
     "data": {
      "image/png": "[encoded data removed]",
      "text/plain": [
       "<Figure size 720x720 with 2 Axes>"
      ]
     },
     "metadata": {},
     "output_type": "display_data"
    }
   ],
   "source": [
    "fig,ax = plt.subplots(figsize=(10, 10))\n",
    "sns.heatmap(raw_data.corr(), ax=ax, annot=True, linewidths=0.05, fmt= '.2f',cmap=\"magma\")\n",
    "plt.show()"
   ]
  },
  {
   "cell_type": "markdown",
   "metadata": {},
   "source": [
    "## Split Data to Training and Testing"
   ]
  },
  {
   "cell_type": "code",
   "execution_count": 15,
   "metadata": {},
   "outputs": [],
   "source": [
    "y = raw_data[\"Chance\"].values\n",
    "X = raw_data.drop([\"Chance\"],axis=1)"
   ]
  },
  {
   "cell_type": "code",
   "execution_count": 16,
   "metadata": {},
   "outputs": [],
   "source": [
    "train_X, test_X, train_y, test_y = train_test_split(X, y, test_size = 0.20, random_state = 42)"
   ]
  },
  {
   "cell_type": "markdown",
   "metadata": {},
   "source": [
    "## Scaling Data"
   ]
  },
  {
   "cell_type": "code",
   "execution_count": 17,
   "metadata": {},
   "outputs": [],
   "source": [
    "scaler_X = MinMaxScaler(feature_range = (0, 1))\n",
    "train_scale_X = scaler_X.fit_transform(train_X.copy())\n",
    "test_scale_X = scaler_X.transform(test_X.copy())"
   ]
  },
  {
   "cell_type": "markdown",
   "metadata": {},
   "source": [
    "## Start Regression Modeling"
   ]
  },
  {
   "cell_type": "code",
   "execution_count": 18,
   "metadata": {},
   "outputs": [
    {
     "name": "stdout",
     "output_type": "stream",
     "text": [
      "r_square score:  0.818843256782963\n",
      "r_square score (train dataset):  0.8210671369321554\n"
     ]
    }
   ],
   "source": [
    "linear_regression(train_scale_X, train_y, test_scale_X, test_y)"
   ]
  },
  {
   "cell_type": "code",
   "execution_count": 19,
   "metadata": {},
   "outputs": [
    {
     "name": "stdout",
     "output_type": "stream",
     "text": [
      "r_square score:  0.7907314767726159\n",
      "r_square score (train dataset):  0.9682217215509897\n"
     ]
    }
   ],
   "source": [
    "random_forest(train_scale_X, train_y, test_scale_X, test_y)"
   ]
  },
  {
   "cell_type": "code",
   "execution_count": 20,
   "metadata": {},
   "outputs": [
    {
     "name": "stdout",
     "output_type": "stream",
     "text": [
      "r_square score:  0.57799511002445\n",
      "r_square score (train dataset):  1.0\n"
     ]
    }
   ],
   "source": [
    "decision_tree(train_scale_X, train_y, test_scale_X, test_y)"
   ]
  },
  {
   "cell_type": "markdown",
   "metadata": {},
   "source": [
    "## Start Classification Modeling\n",
    "#### If a candidate's Chance of Admit is greater than 80%, the candidate will receive the 1 label.\n",
    "#### If a candidate's Chance of Admit is less than or equal to 80%, the candidate will receive the 0 label."
   ]
  },
  {
   "cell_type": "code",
   "execution_count": 26,
   "metadata": {},
   "outputs": [],
   "source": [
    "train_status_y = [1 if possibility > 0.8 else 0 for possibility in train_y]\n",
    "test_status_y  = [1 if possibility > 0.8 else 0 for possibility in test_y]\n",
    "\n",
    "train_status_y = np.array(train_status_y)\n",
    "test_status_y = np.array(test_status_y)"
   ]
  },
  {
   "cell_type": "markdown",
   "metadata": {},
   "source": [
    "#### Note about score: It is the mean accuracy for test data and labels.\n",
    "#### Note about precision: precision = TP / (TP + FP)\n",
    "#### Note about recall: recall = TP / (TP + FN)\n",
    "#### Note about F1: F1 = 2 / ((1/precision)+(1/recall))"
   ]
  },
  {
   "cell_type": "code",
   "execution_count": 28,
   "metadata": {},
   "outputs": [
    {
     "name": "stdout",
     "output_type": "stream",
     "text": [
      "score:  0.9275\n",
      "precision_score:  0.96\n",
      "recall_score:  0.8888888888888888\n",
      "f1_score:  0.923076923076923\n"
     ]
    }
   ],
   "source": [
    "logistic_regression(train_scale_X, train_status_y, test_scale_X, test_status_y)"
   ]
  },
  {
   "cell_type": "code",
   "execution_count": 29,
   "metadata": {},
   "outputs": [
    {
     "name": "stdout",
     "output_type": "stream",
     "text": [
      "score:  0.925\n",
      "precision_score:  0.9615384615384616\n",
      "recall_score:  0.9259259259259259\n",
      "f1_score:  0.9433962264150944\n"
     ]
    }
   ],
   "source": [
    "support_vector_machine(train_scale_X, train_status_y, test_scale_X, test_status_y)"
   ]
  },
  {
   "cell_type": "code",
   "execution_count": 30,
   "metadata": {},
   "outputs": [
    {
     "name": "stdout",
     "output_type": "stream",
     "text": [
      "score:  0.91\n",
      "precision_score:  0.7941176470588235\n",
      "recall_score:  1.0\n",
      "f1_score:  0.8852459016393442\n"
     ]
    }
   ],
   "source": [
    "gaussian_naive_bayes(train_scale_X, train_status_y, test_scale_X, test_status_y)"
   ]
  },
  {
   "cell_type": "code",
   "execution_count": 31,
   "metadata": {},
   "outputs": [
    {
     "name": "stdout",
     "output_type": "stream",
     "text": [
      "score:  1.0\n",
      "precision_score:  0.8666666666666667\n",
      "recall_score:  0.9629629629629629\n",
      "f1_score:  0.912280701754386\n"
     ]
    }
   ],
   "source": [
    "decision_tree_classification(train_scale_X, train_status_y, test_scale_X, test_status_y)"
   ]
  },
  {
   "cell_type": "code",
   "execution_count": 32,
   "metadata": {},
   "outputs": [
    {
     "name": "stdout",
     "output_type": "stream",
     "text": [
      "score:  1.0\n",
      "precision_score:  0.8928571428571429\n",
      "recall_score:  0.9259259259259259\n",
      "f1_score:  0.9090909090909091\n"
     ]
    }
   ],
   "source": [
    "random_forest_classification(train_scale_X, train_status_y, test_scale_X, test_status_y)"
   ]
  }
 ],
 "metadata": {
  "kernelspec": {
   "display_name": "Python 3",
   "language": "python",
   "name": "python3"
  },
  "language_info": {
   "codemirror_mode": {
    "name": "ipython",
    "version": 3
   },
   "file_extension": ".py",
   "mimetype": "text/x-python",
   "name": "python",
   "nbconvert_exporter": "python",
   "pygments_lexer": "ipython3",
   "version": "3.6.7"
  }
 },
 "nbformat": 4,
 "nbformat_minor": 2
}
